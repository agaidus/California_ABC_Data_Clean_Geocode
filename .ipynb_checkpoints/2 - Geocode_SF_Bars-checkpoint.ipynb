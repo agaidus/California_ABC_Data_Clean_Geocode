{
 "cells": [
  {
   "cell_type": "code",
   "execution_count": 1,
   "metadata": {
    "collapsed": false
   },
   "outputs": [],
   "source": [
    "%matplotlib inline\n",
    "import geopandas as gpd\n",
    "import pandas as pd\n",
    "import numpy as np\n",
    "import geopy\n",
    "import os\n",
    "import shapely\n",
    "from shapely.geometry import Point"
   ]
  },
  {
   "cell_type": "code",
   "execution_count": 2,
   "metadata": {
    "collapsed": false
   },
   "outputs": [],
   "source": [
    "outlet_data=pd.read_pickle('Data/CA_AlcoholOutlets.p')"
   ]
  },
  {
   "cell_type": "code",
   "execution_count": 3,
   "metadata": {
    "collapsed": false
   },
   "outputs": [
    {
     "data": {
      "text/html": [
       "<div>\n",
       "<table border=\"1\" class=\"dataframe\">\n",
       "  <thead>\n",
       "    <tr style=\"text-align: right;\">\n",
       "      <th></th>\n",
       "      <th>DBAName</th>\n",
       "      <th>pName</th>\n",
       "      <th>pAddress1</th>\n",
       "      <th>pCity</th>\n",
       "      <th>pState</th>\n",
       "      <th>pZip</th>\n",
       "      <th>pCounty</th>\n",
       "    </tr>\n",
       "    <tr>\n",
       "      <th>FileNum</th>\n",
       "      <th></th>\n",
       "      <th></th>\n",
       "      <th></th>\n",
       "      <th></th>\n",
       "      <th></th>\n",
       "      <th></th>\n",
       "      <th></th>\n",
       "    </tr>\n",
       "  </thead>\n",
       "  <tbody>\n",
       "    <tr>\n",
       "      <th>1352</th>\n",
       "      <td>SAM JORDANS BAR</td>\n",
       "      <td>SAM JORDAN OF CALIFORNIA CATERING I</td>\n",
       "      <td>4004 3RD ST</td>\n",
       "      <td>SAN FRANCISCO</td>\n",
       "      <td>CA</td>\n",
       "      <td>94124-2129</td>\n",
       "      <td>SAN FRANCISCO</td>\n",
       "    </tr>\n",
       "    <tr>\n",
       "      <th>6237</th>\n",
       "      <td>MOBY DICK</td>\n",
       "      <td>DAVIC INC</td>\n",
       "      <td>4049 18TH ST</td>\n",
       "      <td>SAN FRANCISCO</td>\n",
       "      <td>CA</td>\n",
       "      <td>94114-2501</td>\n",
       "      <td>SAN FRANCISCO</td>\n",
       "    </tr>\n",
       "    <tr>\n",
       "      <th>7049</th>\n",
       "      <td>BUDDHA LOUNGE</td>\n",
       "      <td>BUDDHA LOUNGE INC</td>\n",
       "      <td>901 GRANT AVE</td>\n",
       "      <td>SAN FRANCISCO</td>\n",
       "      <td>CA</td>\n",
       "      <td>94108</td>\n",
       "      <td>SAN FRANCISCO</td>\n",
       "    </tr>\n",
       "    <tr>\n",
       "      <th>8110</th>\n",
       "      <td>LITTLE SHAMROCK</td>\n",
       "      <td>LITTLE SHAMROCK INC</td>\n",
       "      <td>807 LINCOLN WAY</td>\n",
       "      <td>SAN FRANCISCO</td>\n",
       "      <td>CA</td>\n",
       "      <td>94122</td>\n",
       "      <td>SAN FRANCISCO</td>\n",
       "    </tr>\n",
       "    <tr>\n",
       "      <th>9757</th>\n",
       "      <td>SAN FRANCISCO ODD FELLOWS CLUB</td>\n",
       "      <td>SAN FRANCISCO ODD FELLOWS CLUB</td>\n",
       "      <td>26 7TH ST</td>\n",
       "      <td>SAN FRANCISCO</td>\n",
       "      <td>CA</td>\n",
       "      <td>94103</td>\n",
       "      <td>SAN FRANCISCO</td>\n",
       "    </tr>\n",
       "  </tbody>\n",
       "</table>\n",
       "</div>"
      ],
      "text/plain": [
       "                                DBAName                                pName  \\\n",
       "FileNum                                                                        \n",
       "1352                    SAM JORDANS BAR  SAM JORDAN OF CALIFORNIA CATERING I   \n",
       "6237                          MOBY DICK                            DAVIC INC   \n",
       "7049                      BUDDHA LOUNGE                    BUDDHA LOUNGE INC   \n",
       "8110                    LITTLE SHAMROCK                  LITTLE SHAMROCK INC   \n",
       "9757     SAN FRANCISCO ODD FELLOWS CLUB       SAN FRANCISCO ODD FELLOWS CLUB   \n",
       "\n",
       "               pAddress1          pCity pState        pZip        pCounty  \n",
       "FileNum                                                                    \n",
       "1352         4004 3RD ST  SAN FRANCISCO     CA  94124-2129  SAN FRANCISCO  \n",
       "6237        4049 18TH ST  SAN FRANCISCO     CA  94114-2501  SAN FRANCISCO  \n",
       "7049       901 GRANT AVE  SAN FRANCISCO     CA       94108  SAN FRANCISCO  \n",
       "8110     807 LINCOLN WAY  SAN FRANCISCO     CA       94122  SAN FRANCISCO  \n",
       "9757           26 7TH ST  SAN FRANCISCO     CA       94103  SAN FRANCISCO  "
      ]
     },
     "execution_count": 3,
     "metadata": {},
     "output_type": "execute_result"
    }
   ],
   "source": [
    "sf_bars=outlet_data[(outlet_data.Bar==1)&(outlet_data.pCity=='SAN FRANCISCO')].drop(['Bar','Rest','OffPremise'],1)\n",
    "sf_bars.head()"
   ]
  },
  {
   "cell_type": "code",
   "execution_count": 4,
   "metadata": {
    "collapsed": true
   },
   "outputs": [],
   "source": [
    "def geocode_google_add(addresses, key=None):\n",
    "    google_locator=geopy.geocoders.GoogleV3(api_key=key)\n",
    "    outputcols=['match_addr', 'x','y','loc_type']\n",
    "    match_result=pd.DataFrame(columns=outputcols)\n",
    "    for i,row in addresses.iteritems():\n",
    "        try:\n",
    "            location = google_locator.geocode(row)\n",
    "            if location:\n",
    "                outputvals=[location.address,location.longitude, location.latitude, location.raw['geometry']['location_type']]\n",
    "                match_result.loc[i]=outputvals\n",
    "            else:\n",
    "                match_result.loc[i]=[None]*len(outputcols)\n",
    "        except Exception, e:\n",
    "            match_result.loc[i]=[None]*len(outputcols)\n",
    "            print 'Failed at ID '+str(i)\n",
    "            print e\n",
    "            break\n",
    "    return match_result"
   ]
  },
  {
   "cell_type": "code",
   "execution_count": 5,
   "metadata": {
    "collapsed": false
   },
   "outputs": [
    {
     "data": {
      "text/plain": [
       "FileNum\n",
       "1352     4004 3RD ST, SAN FRANCISCO, CA 94124-2129\n",
       "6237    4049 18TH ST, SAN FRANCISCO, CA 94114-2501\n",
       "7049        901 GRANT AVE, SAN FRANCISCO, CA 94108\n",
       "8110      807 LINCOLN WAY, SAN FRANCISCO, CA 94122\n",
       "9757            26 7TH ST, SAN FRANCISCO, CA 94103\n",
       "dtype: object"
      ]
     },
     "execution_count": 5,
     "metadata": {},
     "output_type": "execute_result"
    }
   ],
   "source": [
    "bar_addresses=sf_bars['pAddress1']+', '+sf_bars['pCity']+', '+sf_bars['pState']+' '+sf_bars['pZip']\n",
    "bar_addresses.head()"
   ]
  },
  {
   "cell_type": "code",
   "execution_count": null,
   "metadata": {
    "collapsed": false
   },
   "outputs": [],
   "source": [
    "geocode_output=\"Data/sf_bar_geocoded.p\"\n",
    "if not os.path.exists(geocode_output):\n",
    "    sf_bars_geocoded=geocode_google_add(bar_addresses)\n",
    "    sf_bars_geocoded.to_pickle(geocode_output)\n",
    "else:\n",
    "    sf_bars_geocoded=pd.read_pickle(geocode_output)\n",
    "print sf_bars_geocoded.loc_type.value_counts()"
   ]
  },
  {
   "cell_type": "code",
   "execution_count": 9,
   "metadata": {
    "collapsed": false
   },
   "outputs": [
    {
     "data": {
      "text/html": [
       "<div>\n",
       "<table border=\"1\" class=\"dataframe\">\n",
       "  <thead>\n",
       "    <tr style=\"text-align: right;\">\n",
       "      <th></th>\n",
       "      <th>match_addr</th>\n",
       "      <th>x</th>\n",
       "      <th>y</th>\n",
       "      <th>loc_type</th>\n",
       "    </tr>\n",
       "  </thead>\n",
       "  <tbody>\n",
       "    <tr>\n",
       "      <th>1352</th>\n",
       "      <td>4004 3rd St, San Francisco, CA 94124, USA</td>\n",
       "      <td>-122.388844</td>\n",
       "      <td>37.741046</td>\n",
       "      <td>ROOFTOP</td>\n",
       "    </tr>\n",
       "    <tr>\n",
       "      <th>6237</th>\n",
       "      <td>4049 18th St, San Francisco, CA 94114, USA</td>\n",
       "      <td>-122.433697</td>\n",
       "      <td>37.760806</td>\n",
       "      <td>ROOFTOP</td>\n",
       "    </tr>\n",
       "    <tr>\n",
       "      <th>7049</th>\n",
       "      <td>901 Grant Ave, San Francisco, CA 94108, USA</td>\n",
       "      <td>-122.406670</td>\n",
       "      <td>37.795279</td>\n",
       "      <td>ROOFTOP</td>\n",
       "    </tr>\n",
       "    <tr>\n",
       "      <th>8110</th>\n",
       "      <td>807 Lincoln Way, San Francisco, CA 94122, USA</td>\n",
       "      <td>-122.466713</td>\n",
       "      <td>37.765697</td>\n",
       "      <td>ROOFTOP</td>\n",
       "    </tr>\n",
       "    <tr>\n",
       "      <th>9757</th>\n",
       "      <td>26 7th St, San Francisco, CA 94103, USA</td>\n",
       "      <td>-122.412278</td>\n",
       "      <td>37.780007</td>\n",
       "      <td>ROOFTOP</td>\n",
       "    </tr>\n",
       "  </tbody>\n",
       "</table>\n",
       "</div>"
      ],
      "text/plain": [
       "                                         match_addr           x          y  \\\n",
       "1352      4004 3rd St, San Francisco, CA 94124, USA -122.388844  37.741046   \n",
       "6237     4049 18th St, San Francisco, CA 94114, USA -122.433697  37.760806   \n",
       "7049    901 Grant Ave, San Francisco, CA 94108, USA -122.406670  37.795279   \n",
       "8110  807 Lincoln Way, San Francisco, CA 94122, USA -122.466713  37.765697   \n",
       "9757        26 7th St, San Francisco, CA 94103, USA -122.412278  37.780007   \n",
       "\n",
       "     loc_type  \n",
       "1352  ROOFTOP  \n",
       "6237  ROOFTOP  \n",
       "7049  ROOFTOP  \n",
       "8110  ROOFTOP  \n",
       "9757  ROOFTOP  "
      ]
     },
     "execution_count": 9,
     "metadata": {},
     "output_type": "execute_result"
    }
   ],
   "source": [
    "sf_bars_geocoded.head()"
   ]
  },
  {
   "cell_type": "code",
   "execution_count": 10,
   "metadata": {
    "collapsed": false
   },
   "outputs": [
    {
     "data": {
      "text/html": [
       "<div>\n",
       "<table border=\"1\" class=\"dataframe\">\n",
       "  <thead>\n",
       "    <tr style=\"text-align: right;\">\n",
       "      <th></th>\n",
       "      <th>DBAName</th>\n",
       "      <th>pName</th>\n",
       "      <th>pAddress1</th>\n",
       "      <th>pCity</th>\n",
       "      <th>pState</th>\n",
       "      <th>pZip</th>\n",
       "      <th>pCounty</th>\n",
       "    </tr>\n",
       "    <tr>\n",
       "      <th>FileNum</th>\n",
       "      <th></th>\n",
       "      <th></th>\n",
       "      <th></th>\n",
       "      <th></th>\n",
       "      <th></th>\n",
       "      <th></th>\n",
       "      <th></th>\n",
       "    </tr>\n",
       "  </thead>\n",
       "  <tbody>\n",
       "    <tr>\n",
       "      <th>111874</th>\n",
       "      <td>SPECS</td>\n",
       "      <td>RICHARD E SIMMONS INC</td>\n",
       "      <td>12 SAROYAN ALLEY</td>\n",
       "      <td>SAN FRANCISCO</td>\n",
       "      <td>CA</td>\n",
       "      <td>94133</td>\n",
       "      <td>SAN FRANCISCO</td>\n",
       "    </tr>\n",
       "    <tr>\n",
       "      <th>338913</th>\n",
       "      <td>HOT DOG BILLS</td>\n",
       "      <td>PARRISH  CANDYCE LOUISE</td>\n",
       "      <td>SKYLINE BLVD 4M S OF LINCOLN WAY</td>\n",
       "      <td>SAN FRANCISCO</td>\n",
       "      <td>CA</td>\n",
       "      <td>94132</td>\n",
       "      <td>SAN FRANCISCO</td>\n",
       "    </tr>\n",
       "    <tr>\n",
       "      <th>339310</th>\n",
       "      <td>HOT DOG BILLS</td>\n",
       "      <td>PARRISH  CANDYCE LOUISE</td>\n",
       "      <td>OLYMPIC GOLF &amp; COUNTRY CLUB</td>\n",
       "      <td>SAN FRANCISCO</td>\n",
       "      <td>CA</td>\n",
       "      <td>94131</td>\n",
       "      <td>SAN FRANCISCO</td>\n",
       "    </tr>\n",
       "    <tr>\n",
       "      <th>446976</th>\n",
       "      <td>FESTA WINE AND COCKTAIL LOUNGE</td>\n",
       "      <td>MATSUMOTO SHOJI INC</td>\n",
       "      <td>1581 WEBSTER ST UPPER LEVEL</td>\n",
       "      <td>SAN FRANCISCO</td>\n",
       "      <td>CA</td>\n",
       "      <td>94115-3638</td>\n",
       "      <td>SAN FRANCISCO</td>\n",
       "    </tr>\n",
       "    <tr>\n",
       "      <th>524350</th>\n",
       "      <td>SF UNCORK'D</td>\n",
       "      <td>SF UNCORK'D. LLC</td>\n",
       "      <td>SF INTL AIRPORT</td>\n",
       "      <td>SAN FRANCISCO</td>\n",
       "      <td>CA</td>\n",
       "      <td>94128</td>\n",
       "      <td>SAN MATEO</td>\n",
       "    </tr>\n",
       "  </tbody>\n",
       "</table>\n",
       "</div>"
      ],
      "text/plain": [
       "                                DBAName                    pName  \\\n",
       "FileNum                                                            \n",
       "111874                            SPECS    RICHARD E SIMMONS INC   \n",
       "338913                    HOT DOG BILLS  PARRISH  CANDYCE LOUISE   \n",
       "339310                    HOT DOG BILLS  PARRISH  CANDYCE LOUISE   \n",
       "446976   FESTA WINE AND COCKTAIL LOUNGE      MATSUMOTO SHOJI INC   \n",
       "524350                      SF UNCORK'D         SF UNCORK'D. LLC   \n",
       "\n",
       "                                pAddress1          pCity pState        pZip  \\\n",
       "FileNum                                                                       \n",
       "111874                   12 SAROYAN ALLEY  SAN FRANCISCO     CA       94133   \n",
       "338913   SKYLINE BLVD 4M S OF LINCOLN WAY  SAN FRANCISCO     CA       94132   \n",
       "339310        OLYMPIC GOLF & COUNTRY CLUB  SAN FRANCISCO     CA       94131   \n",
       "446976        1581 WEBSTER ST UPPER LEVEL  SAN FRANCISCO     CA  94115-3638   \n",
       "524350                    SF INTL AIRPORT  SAN FRANCISCO     CA       94128   \n",
       "\n",
       "               pCounty  \n",
       "FileNum                 \n",
       "111874   SAN FRANCISCO  \n",
       "338913   SAN FRANCISCO  \n",
       "339310   SAN FRANCISCO  \n",
       "446976   SAN FRANCISCO  \n",
       "524350       SAN MATEO  "
      ]
     },
     "execution_count": 10,
     "metadata": {},
     "output_type": "execute_result"
    }
   ],
   "source": [
    "sf_bars[sf_bars_geocoded.loc_type.isin(['APPROXIMATE','GEOMETRIC_CENTER'])]"
   ]
  },
  {
   "cell_type": "code",
   "execution_count": 11,
   "metadata": {
    "collapsed": false
   },
   "outputs": [
    {
     "data": {
      "text/plain": [
       "1352    POINT (-122.3888444 37.7410459)\n",
       "6237     POINT (-122.4336971 37.760806)\n",
       "7049       POINT (-122.40667 37.795279)\n",
       "8110    POINT (-122.4667128 37.7656969)\n",
       "9757    POINT (-122.4122782 37.7800072)\n",
       "dtype: object"
      ]
     },
     "execution_count": 11,
     "metadata": {},
     "output_type": "execute_result"
    }
   ],
   "source": [
    "geometry=sf_bars_geocoded.apply(lambda row:Point(row['x'],row['y']),1)\n",
    "geometry.head()"
   ]
  },
  {
   "cell_type": "code",
   "execution_count": 12,
   "metadata": {
    "collapsed": false
   },
   "outputs": [
    {
     "data": {
      "text/html": [
       "<div>\n",
       "<table border=\"1\" class=\"dataframe\">\n",
       "  <thead>\n",
       "    <tr style=\"text-align: right;\">\n",
       "      <th></th>\n",
       "      <th>DBAName</th>\n",
       "      <th>pName</th>\n",
       "      <th>pAddress1</th>\n",
       "      <th>pCity</th>\n",
       "      <th>pState</th>\n",
       "      <th>pZip</th>\n",
       "      <th>pCounty</th>\n",
       "      <th>geometry</th>\n",
       "    </tr>\n",
       "    <tr>\n",
       "      <th>FileNum</th>\n",
       "      <th></th>\n",
       "      <th></th>\n",
       "      <th></th>\n",
       "      <th></th>\n",
       "      <th></th>\n",
       "      <th></th>\n",
       "      <th></th>\n",
       "      <th></th>\n",
       "    </tr>\n",
       "  </thead>\n",
       "  <tbody>\n",
       "    <tr>\n",
       "      <th>1352</th>\n",
       "      <td>SAM JORDANS BAR</td>\n",
       "      <td>SAM JORDAN OF CALIFORNIA CATERING I</td>\n",
       "      <td>4004 3RD ST</td>\n",
       "      <td>SAN FRANCISCO</td>\n",
       "      <td>CA</td>\n",
       "      <td>94124-2129</td>\n",
       "      <td>SAN FRANCISCO</td>\n",
       "      <td>POINT (-210199.9582317903 -27958.10823745374)</td>\n",
       "    </tr>\n",
       "    <tr>\n",
       "      <th>6237</th>\n",
       "      <td>MOBY DICK</td>\n",
       "      <td>DAVIC INC</td>\n",
       "      <td>4049 18TH ST</td>\n",
       "      <td>SAN FRANCISCO</td>\n",
       "      <td>CA</td>\n",
       "      <td>94114-2501</td>\n",
       "      <td>SAN FRANCISCO</td>\n",
       "      <td>POINT (-214089.4110975648 -25661.79125331948)</td>\n",
       "    </tr>\n",
       "    <tr>\n",
       "      <th>7049</th>\n",
       "      <td>BUDDHA LOUNGE</td>\n",
       "      <td>BUDDHA LOUNGE INC</td>\n",
       "      <td>901 GRANT AVE</td>\n",
       "      <td>SAN FRANCISCO</td>\n",
       "      <td>CA</td>\n",
       "      <td>94108</td>\n",
       "      <td>SAN FRANCISCO</td>\n",
       "      <td>POINT (-211615.1136665252 -21891.46569795953)</td>\n",
       "    </tr>\n",
       "    <tr>\n",
       "      <th>8110</th>\n",
       "      <td>LITTLE SHAMROCK</td>\n",
       "      <td>LITTLE SHAMROCK INC</td>\n",
       "      <td>807 LINCOLN WAY</td>\n",
       "      <td>SAN FRANCISCO</td>\n",
       "      <td>CA</td>\n",
       "      <td>94122</td>\n",
       "      <td>SAN FRANCISCO</td>\n",
       "      <td>POINT (-216978.9671488987 -25043.21085385513)</td>\n",
       "    </tr>\n",
       "    <tr>\n",
       "      <th>9757</th>\n",
       "      <td>SAN FRANCISCO ODD FELLOWS CLUB</td>\n",
       "      <td>SAN FRANCISCO ODD FELLOWS CLUB</td>\n",
       "      <td>26 7TH ST</td>\n",
       "      <td>SAN FRANCISCO</td>\n",
       "      <td>CA</td>\n",
       "      <td>94103</td>\n",
       "      <td>SAN FRANCISCO</td>\n",
       "      <td>POINT (-212151.3200401409 -23576.10106546246)</td>\n",
       "    </tr>\n",
       "  </tbody>\n",
       "</table>\n",
       "</div>"
      ],
      "text/plain": [
       "                                DBAName                                pName  \\\n",
       "FileNum                                                                        \n",
       "1352                    SAM JORDANS BAR  SAM JORDAN OF CALIFORNIA CATERING I   \n",
       "6237                          MOBY DICK                            DAVIC INC   \n",
       "7049                      BUDDHA LOUNGE                    BUDDHA LOUNGE INC   \n",
       "8110                    LITTLE SHAMROCK                  LITTLE SHAMROCK INC   \n",
       "9757     SAN FRANCISCO ODD FELLOWS CLUB       SAN FRANCISCO ODD FELLOWS CLUB   \n",
       "\n",
       "               pAddress1          pCity pState        pZip        pCounty  \\\n",
       "FileNum                                                                     \n",
       "1352         4004 3RD ST  SAN FRANCISCO     CA  94124-2129  SAN FRANCISCO   \n",
       "6237        4049 18TH ST  SAN FRANCISCO     CA  94114-2501  SAN FRANCISCO   \n",
       "7049       901 GRANT AVE  SAN FRANCISCO     CA       94108  SAN FRANCISCO   \n",
       "8110     807 LINCOLN WAY  SAN FRANCISCO     CA       94122  SAN FRANCISCO   \n",
       "9757           26 7TH ST  SAN FRANCISCO     CA       94103  SAN FRANCISCO   \n",
       "\n",
       "                                              geometry  \n",
       "FileNum                                                 \n",
       "1352     POINT (-210199.9582317903 -27958.10823745374)  \n",
       "6237     POINT (-214089.4110975648 -25661.79125331948)  \n",
       "7049     POINT (-211615.1136665252 -21891.46569795953)  \n",
       "8110     POINT (-216978.9671488987 -25043.21085385513)  \n",
       "9757     POINT (-212151.3200401409 -23576.10106546246)  "
      ]
     },
     "execution_count": 12,
     "metadata": {},
     "output_type": "execute_result"
    }
   ],
   "source": [
    "sf_bars_loc=gpd.GeoDataFrame(data=sf_bars, geometry=geometry, crs={'init': 'epsg:4326'}).to_crs(epsg=3310)\n",
    "sf_bars_loc.head()"
   ]
  },
  {
   "cell_type": "code",
   "execution_count": 13,
   "metadata": {
    "collapsed": false
   },
   "outputs": [],
   "source": [
    "sf_bars_loc.to_file('Data/sf_bars.shp')"
   ]
  }
 ],
 "metadata": {
  "kernelspec": {
   "display_name": "Python 2",
   "language": "python",
   "name": "python2"
  },
  "language_info": {
   "codemirror_mode": {
    "name": "ipython",
    "version": 2
   },
   "file_extension": ".py",
   "mimetype": "text/x-python",
   "name": "python",
   "nbconvert_exporter": "python",
   "pygments_lexer": "ipython2",
   "version": "2.7.8"
  }
 },
 "nbformat": 4,
 "nbformat_minor": 0
}
